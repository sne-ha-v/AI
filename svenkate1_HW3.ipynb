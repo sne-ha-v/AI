{
  "cells": [
    {
      "cell_type": "markdown",
      "metadata": {
        "id": "AYBvZS0vQ-gr"
      },
      "source": [
        "# CS 541-A-Homework 3\n",
        "## Neural networks\n",
        "\n",
        "\n",
        "---\n",
        "\n",
        "\n",
        "### ***Fill your details below***\n",
        "### Name: Sneha Venkatesh\n",
        "### CWID: 20027527\n",
        "### Email ID: svenkate1@stevens.edu\n",
        "### References: ***Cite your references here***\n",
        "\n",
        "\n",
        "---\n",
        "### Submission guidelines:\n",
        "\n",
        "#### 1. Submit this notebook along with its PDF version. You can do this by clicking File->Print->\"Save as PDF\"\n",
        "\n",
        "#### 2. Name the file as \"<mailID_HWnumber.extension>\". For example, mailID is abcdefg @stevens.edu then name the files as abcdefg_HW1.ipynb and abcdefg_HW1.pdf.\n",
        "\n",
        "#### 3. Please do not Zip your files.\n",
        "\n",
        "\n",
        "---\n",
        "\n"
      ]
    },
    {
      "cell_type": "code",
      "execution_count": 16,
      "metadata": {
        "colab": {
          "base_uri": "https://localhost:8080/"
        },
        "id": "PtKvmZx-WmUu",
        "outputId": "daee7a21-89eb-4184-9486-3298b5208f8e"
      },
      "outputs": [
        {
          "name": "stdout",
          "output_type": "stream",
          "text": [
            "Requirement already satisfied: torch in /Library/Frameworks/Python.framework/Versions/3.12/lib/python3.12/site-packages (2.2.0)\n",
            "Requirement already satisfied: filelock in /Library/Frameworks/Python.framework/Versions/3.12/lib/python3.12/site-packages (from torch) (3.13.1)\n",
            "Requirement already satisfied: typing-extensions>=4.8.0 in /Library/Frameworks/Python.framework/Versions/3.12/lib/python3.12/site-packages (from torch) (4.9.0)\n",
            "Requirement already satisfied: sympy in /Library/Frameworks/Python.framework/Versions/3.12/lib/python3.12/site-packages (from torch) (1.12)\n",
            "Requirement already satisfied: networkx in /Library/Frameworks/Python.framework/Versions/3.12/lib/python3.12/site-packages (from torch) (3.2.1)\n",
            "Requirement already satisfied: jinja2 in /Library/Frameworks/Python.framework/Versions/3.12/lib/python3.12/site-packages (from torch) (3.1.3)\n",
            "Requirement already satisfied: fsspec in /Library/Frameworks/Python.framework/Versions/3.12/lib/python3.12/site-packages (from torch) (2023.10.0)\n",
            "Requirement already satisfied: MarkupSafe>=2.0 in /Library/Frameworks/Python.framework/Versions/3.12/lib/python3.12/site-packages (from jinja2->torch) (2.1.5)\n",
            "Requirement already satisfied: mpmath>=0.19 in /Library/Frameworks/Python.framework/Versions/3.12/lib/python3.12/site-packages (from sympy->torch) (1.3.0)\n",
            "Requirement already satisfied: torchvision in /Library/Frameworks/Python.framework/Versions/3.12/lib/python3.12/site-packages (0.17.0)\n",
            "Requirement already satisfied: numpy in /Library/Frameworks/Python.framework/Versions/3.12/lib/python3.12/site-packages (from torchvision) (1.26.4)\n",
            "Requirement already satisfied: requests in /Library/Frameworks/Python.framework/Versions/3.12/lib/python3.12/site-packages (from torchvision) (2.31.0)\n",
            "Requirement already satisfied: torch==2.2.0 in /Library/Frameworks/Python.framework/Versions/3.12/lib/python3.12/site-packages (from torchvision) (2.2.0)\n",
            "Requirement already satisfied: pillow!=8.3.*,>=5.3.0 in /Library/Frameworks/Python.framework/Versions/3.12/lib/python3.12/site-packages (from torchvision) (10.2.0)\n",
            "Requirement already satisfied: filelock in /Library/Frameworks/Python.framework/Versions/3.12/lib/python3.12/site-packages (from torch==2.2.0->torchvision) (3.13.1)\n",
            "Requirement already satisfied: typing-extensions>=4.8.0 in /Library/Frameworks/Python.framework/Versions/3.12/lib/python3.12/site-packages (from torch==2.2.0->torchvision) (4.9.0)\n",
            "Requirement already satisfied: sympy in /Library/Frameworks/Python.framework/Versions/3.12/lib/python3.12/site-packages (from torch==2.2.0->torchvision) (1.12)\n",
            "Requirement already satisfied: networkx in /Library/Frameworks/Python.framework/Versions/3.12/lib/python3.12/site-packages (from torch==2.2.0->torchvision) (3.2.1)\n",
            "Requirement already satisfied: jinja2 in /Library/Frameworks/Python.framework/Versions/3.12/lib/python3.12/site-packages (from torch==2.2.0->torchvision) (3.1.3)\n",
            "Requirement already satisfied: fsspec in /Library/Frameworks/Python.framework/Versions/3.12/lib/python3.12/site-packages (from torch==2.2.0->torchvision) (2023.10.0)\n",
            "Requirement already satisfied: charset-normalizer<4,>=2 in /Library/Frameworks/Python.framework/Versions/3.12/lib/python3.12/site-packages (from requests->torchvision) (3.3.2)\n",
            "Requirement already satisfied: idna<4,>=2.5 in /Library/Frameworks/Python.framework/Versions/3.12/lib/python3.12/site-packages (from requests->torchvision) (3.6)\n",
            "Requirement already satisfied: urllib3<3,>=1.21.1 in /Library/Frameworks/Python.framework/Versions/3.12/lib/python3.12/site-packages (from requests->torchvision) (2.2.1)\n",
            "Requirement already satisfied: certifi>=2017.4.17 in /Library/Frameworks/Python.framework/Versions/3.12/lib/python3.12/site-packages (from requests->torchvision) (2024.2.2)\n",
            "Requirement already satisfied: MarkupSafe>=2.0 in /Library/Frameworks/Python.framework/Versions/3.12/lib/python3.12/site-packages (from jinja2->torch==2.2.0->torchvision) (2.1.5)\n",
            "Requirement already satisfied: mpmath>=0.19 in /Library/Frameworks/Python.framework/Versions/3.12/lib/python3.12/site-packages (from sympy->torch==2.2.0->torchvision) (1.3.0)\n"
          ]
        }
      ],
      "source": [
        "#@title Installing Pytorch\n",
        "\n",
        "!pip install torch\n",
        "!pip install torchvision"
      ]
    },
    {
      "cell_type": "code",
      "execution_count": 17,
      "metadata": {
        "id": "bGU6NwlsXFSt"
      },
      "outputs": [],
      "source": [
        "#@title Import Dependencies\n",
        "\n",
        "import torch\n",
        "import torch.nn as nn\n",
        "import torchvision.datasets as dsets\n",
        "import torchvision.transforms as transforms\n",
        "from torch.autograd import Variable"
      ]
    },
    {
      "cell_type": "code",
      "execution_count": 18,
      "metadata": {
        "id": "_bNfVLRUYqZA"
      },
      "outputs": [],
      "source": [
        "#@title Define Hyperparameters\n",
        "\n",
        "input_size = 784 # img_size = (28,28) ---> 28*28=784 in total\n",
        "hidden_size = 500 # number of nodes at hidden layer\n",
        "num_classes = 10 # number of output classes discrete range [0,9]\n",
        "num_epochs = 5 # number of times which the entire dataset is passed throughout the model\n",
        "batch_size = 100 # the size of input data took for one iteration\n",
        "lr = 1e-3 # size of step"
      ]
    },
    {
      "cell_type": "code",
      "execution_count": 19,
      "metadata": {
        "colab": {
          "base_uri": "https://localhost:8080/"
        },
        "id": "lCsBCXMwbpH5",
        "outputId": "63b32008-7b11-4e27-8b2c-103a4e53b604"
      },
      "outputs": [],
      "source": [
        "#@title Downloading MNIST data\n",
        "\n",
        "train_data = dsets.MNIST(root = './data', train = True,\n",
        "                        transform = transforms.ToTensor(), download = True)\n",
        "\n",
        "test_data = dsets.MNIST(root = './data', train = False,\n",
        "                       transform = transforms.ToTensor())"
      ]
    },
    {
      "cell_type": "code",
      "execution_count": 20,
      "metadata": {
        "id": "rfDPBdnYgfGp"
      },
      "outputs": [],
      "source": [
        "#@title Loading the data\n",
        "\n",
        "train_gen = torch.utils.data.DataLoader(dataset = train_data,\n",
        "                                             batch_size = batch_size,\n",
        "                                             shuffle = True)\n",
        "\n",
        "test_gen = torch.utils.data.DataLoader(dataset = test_data,\n",
        "                                      batch_size = batch_size,\n",
        "                                      shuffle = False)"
      ]
    },
    {
      "cell_type": "code",
      "execution_count": 21,
      "metadata": {
        "colab": {
          "base_uri": "https://localhost:8080/",
          "height": 421
        },
        "id": "COAe9-DrW59d",
        "outputId": "896de66f-a6b5-4fac-d124-1bafa1816b75"
      },
      "outputs": [
        {
          "name": "stdout",
          "output_type": "stream",
          "text": [
            "First 5 images in train dataset:\n"
          ]
        },
        {
          "data": {
            "image/png": "[encoded data removed]",
            "text/plain": [
              "<Figure size 1000x200 with 5 Axes>"
            ]
          },
          "metadata": {},
          "output_type": "display_data"
        },
        {
          "name": "stdout",
          "output_type": "stream",
          "text": [
            "\n",
            "First 5 images in test dataset:\n"
          ]
        },
        {
          "data": {
            "image/png": "[encoded data removed]",
            "text/plain": [
              "<Figure size 1000x200 with 5 Axes>"
            ]
          },
          "metadata": {},
          "output_type": "display_data"
        }
      ],
      "source": [
        "import matplotlib.pyplot as plt\n",
        "\n",
        "transform = transforms.ToTensor()\n",
        "\n",
        "print(\"First 5 images in train dataset:\")\n",
        "fig, axes = plt.subplots(1, 5, figsize=(10, 2))\n",
        "for i in range(5):\n",
        "    image, label = train_data[i]\n",
        "    axes[i].imshow(image.squeeze().numpy(), cmap='gray')\n",
        "    axes[i].set_title('Label: {}'.format(label))\n",
        "    axes[i].axis('off')\n",
        "plt.show()\n",
        "\n",
        "print(\"\\nFirst 5 images in test dataset:\")\n",
        "fig, axes = plt.subplots(1, 5, figsize=(10, 2))\n",
        "for i in range(5):\n",
        "    image, label = test_data[i]\n",
        "    axes[i].imshow(image.squeeze().numpy(), cmap='gray')\n",
        "    axes[i].set_title('Label: {}'.format(label))\n",
        "    axes[i].axis('off')\n",
        "plt.show()\n"
      ]
    },
    {
      "cell_type": "markdown",
      "metadata": {
        "id": "7z_yHL9bPDI-"
      },
      "source": [
        "## Q1. (50 points): design a neural network, provide justification.\n",
        "\n",
        "PyTorch neural network documentation: https://pytorch.org/docs/stable/nn.html"
      ]
    },
    {
      "cell_type": "code",
      "execution_count": 22,
      "metadata": {
        "id": "fL-YXTvghaz_"
      },
      "outputs": [],
      "source": [
        "#@title Define model class\n",
        "\n",
        "class Net(nn.Module):\n",
        "  def __init__(self, input_size, hidden_size, num_classes):\n",
        "    super(Net,self).__init__()\n",
        "    ''' code to build the model '''\n",
        "    self.fc1 = nn.Linear(input_size, hidden_size)\n",
        "    self.relu = nn.ReLU()\n",
        "    self.fc2 = nn.Linear(hidden_size, num_classes)\n",
        "\n",
        "\n",
        "  def forward(self,x):\n",
        "    ''' code to define the forward pass '''\n",
        "    out = self.fc1(x)\n",
        "    out = self.relu(out)\n",
        "    output = self.fc2(out)\n",
        "    return output"
      ]
    },
    {
      "cell_type": "code",
      "execution_count": 23,
      "metadata": {
        "id": "-3EPEqbjjfAT"
      },
      "outputs": [],
      "source": [
        "#@title Build the model\n",
        "\n",
        "net = Net(input_size, hidden_size, num_classes)\n",
        "if torch.cuda.is_available():\n",
        "  net.cuda()"
      ]
    },
    {
      "cell_type": "code",
      "execution_count": 24,
      "metadata": {
        "id": "ePLIwvAFj2zH"
      },
      "outputs": [],
      "source": [
        "#@title Define loss-function & optimizer\n",
        "\n",
        "loss_function = nn.CrossEntropyLoss()\n",
        "optimizer = torch.optim.Adam(net.parameters(), lr=lr)"
      ]
    },
    {
      "cell_type": "markdown",
      "metadata": {
        "id": "r6IZ2UotP39e"
      },
      "source": [
        "##Q2.\n",
        "\n",
        "##a) In the code provided below, What is the meaning of the \"loss.backward()\" step? Please explain the functionality. (15 pts)\n",
        "\n",
        "##b) What is the meaning of \"optimizer.step()\" and what does it do? (15 pts)"
      ]
    },
    {
      "cell_type": "code",
      "execution_count": 25,
      "metadata": {
        "colab": {
          "base_uri": "https://localhost:8080/"
        },
        "id": "u75Xa5VckuTH",
        "outputId": "27ede945-0d79-4738-c725-f46f1757902f"
      },
      "outputs": [
        {
          "name": "stdout",
          "output_type": "stream",
          "text": [
            "Epoch [1/5], Step [100/600], Loss: 0.4093\n",
            "Epoch [1/5], Step [200/600], Loss: 0.2264\n",
            "Epoch [1/5], Step [300/600], Loss: 0.2733\n",
            "Epoch [1/5], Step [400/600], Loss: 0.2714\n",
            "Epoch [1/5], Step [500/600], Loss: 0.1924\n",
            "Epoch [1/5], Step [600/600], Loss: 0.1618\n",
            "Epoch [2/5], Step [100/600], Loss: 0.1369\n",
            "Epoch [2/5], Step [200/600], Loss: 0.1461\n",
            "Epoch [2/5], Step [300/600], Loss: 0.0674\n",
            "Epoch [2/5], Step [400/600], Loss: 0.0785\n",
            "Epoch [2/5], Step [500/600], Loss: 0.0352\n",
            "Epoch [2/5], Step [600/600], Loss: 0.1625\n",
            "Epoch [3/5], Step [100/600], Loss: 0.0242\n",
            "Epoch [3/5], Step [200/600], Loss: 0.0697\n",
            "Epoch [3/5], Step [300/600], Loss: 0.2257\n",
            "Epoch [3/5], Step [400/600], Loss: 0.1261\n",
            "Epoch [3/5], Step [500/600], Loss: 0.1763\n",
            "Epoch [3/5], Step [600/600], Loss: 0.0440\n",
            "Epoch [4/5], Step [100/600], Loss: 0.0742\n",
            "Epoch [4/5], Step [200/600], Loss: 0.0387\n",
            "Epoch [4/5], Step [300/600], Loss: 0.1057\n",
            "Epoch [4/5], Step [400/600], Loss: 0.0249\n",
            "Epoch [4/5], Step [500/600], Loss: 0.0534\n",
            "Epoch [4/5], Step [600/600], Loss: 0.0379\n",
            "Epoch [5/5], Step [100/600], Loss: 0.0238\n",
            "Epoch [5/5], Step [200/600], Loss: 0.0518\n",
            "Epoch [5/5], Step [300/600], Loss: 0.0205\n",
            "Epoch [5/5], Step [400/600], Loss: 0.0530\n",
            "Epoch [5/5], Step [500/600], Loss: 0.0465\n",
            "Epoch [5/5], Step [600/600], Loss: 0.0280\n"
          ]
        }
      ],
      "source": [
        "#@title Training the model\n",
        "\n",
        "for epoch in range(num_epochs):\n",
        "  for i ,(images,labels) in enumerate(train_gen):\n",
        "    images = Variable(images.view(-1,28*28))\n",
        "    labels = Variable(labels)\n",
        "\n",
        "    optimizer.zero_grad()\n",
        "    outputs = net(images)\n",
        "    loss = loss_function(outputs, labels)\n",
        "    loss.backward() #Q2a (15 points): What is the meaning of this step? Please explain the functionality.\n",
        "    optimizer.step() #Q2b (15 points): What is the meaning of this step? Please explain the functionality.\n",
        "\n",
        "    if (i+1) % 100 == 0:\n",
        "      print('Epoch [%d/%d], Step [%d/%d], Loss: %.4f'%(epoch+1, num_epochs, i+1, len(train_data)//batch_size, loss.item()))"
      ]
    },
    {
      "cell_type": "markdown",
      "metadata": {},
      "source": [
        "loss.backward() - computes gradients of loss function with respect to the model parameters and are later used for updating parameters during training via gradient descent or other similar algorithms.\n",
        "\n",
        "optimizer.step() - This will update the model parameters based on the computed gradients and the chosen optimization algorithm (Adam optimizer in above case). It's essentially performing a gradient descent step to minimize the loss."
      ]
    },
    {
      "cell_type": "markdown",
      "metadata": {
        "id": "pjMFDJwOQohr"
      },
      "source": [
        "#Q3 (20 points): Discuss the results. Is the neural network doing a good job?"
      ]
    },
    {
      "cell_type": "code",
      "execution_count": 26,
      "metadata": {
        "colab": {
          "base_uri": "https://localhost:8080/"
        },
        "id": "DTPvMW5jHB9X",
        "outputId": "5a203e8a-a181-4b89-ac40-1064731cac41"
      },
      "outputs": [
        {
          "name": "stdout",
          "output_type": "stream",
          "text": [
            "Accuracy of the model: 97.920 %\n"
          ]
        }
      ],
      "source": [
        "#@title Evaluating the accuracy of the model\n",
        "\n",
        "correct = 0\n",
        "total = 0\n",
        "for images,labels in test_gen:\n",
        "  images = Variable(images.view(-1,28*28))\n",
        "  labels = labels\n",
        "\n",
        "  output = net(images)\n",
        "  _, predicted = torch.max(output,1)\n",
        "  correct += (predicted == labels).sum()\n",
        "  total += labels.size(0)\n",
        "\n",
        "print('Accuracy of the model: %.3f %%' %((100*correct)/(total+1)))\n",
        "#Q3 (20 points): How to interpret the results? Is the neural network does a good job?"
      ]
    },
    {
      "cell_type": "markdown",
      "metadata": {
        "id": "h9LW7wiy07Dp"
      },
      "source": [
        "accuracy is around 97.3 to 98.3 using above model"
      ]
    },
    {
      "cell_type": "markdown",
      "metadata": {
        "id": "zxJmRLF-F_8E"
      },
      "source": [
        "Above is a neural network model with one hidden layer and ReLU activation function"
      ]
    },
    {
      "cell_type": "code",
      "execution_count": 13,
      "metadata": {
        "colab": {
          "base_uri": "https://localhost:8080/"
        },
        "id": "0QrRgqJ6rrGJ",
        "outputId": "234cf12c-65ec-40ef-84bd-fbd69fc9022d"
      },
      "outputs": [
        {
          "name": "stdout",
          "output_type": "stream",
          "text": [
            "Epoch [1/5], Step [100/600], Loss: 0.3478\n",
            "Epoch [1/5], Step [200/600], Loss: 0.1650\n",
            "Epoch [1/5], Step [300/600], Loss: 0.1820\n",
            "Epoch [1/5], Step [400/600], Loss: 0.0816\n",
            "Epoch [1/5], Step [500/600], Loss: 0.1511\n",
            "Epoch [1/5], Step [600/600], Loss: 0.1417\n",
            "Epoch [2/5], Step [100/600], Loss: 0.0391\n",
            "Epoch [2/5], Step [200/600], Loss: 0.0725\n",
            "Epoch [2/5], Step [300/600], Loss: 0.0300\n",
            "Epoch [2/5], Step [400/600], Loss: 0.1114\n",
            "Epoch [2/5], Step [500/600], Loss: 0.0522\n",
            "Epoch [2/5], Step [600/600], Loss: 0.0707\n",
            "Epoch [3/5], Step [100/600], Loss: 0.0159\n",
            "Epoch [3/5], Step [200/600], Loss: 0.0361\n",
            "Epoch [3/5], Step [300/600], Loss: 0.0106\n",
            "Epoch [3/5], Step [400/600], Loss: 0.0616\n",
            "Epoch [3/5], Step [500/600], Loss: 0.1423\n",
            "Epoch [3/5], Step [600/600], Loss: 0.0725\n",
            "Epoch [4/5], Step [100/600], Loss: 0.0285\n",
            "Epoch [4/5], Step [200/600], Loss: 0.0408\n",
            "Epoch [4/5], Step [300/600], Loss: 0.0471\n",
            "Epoch [4/5], Step [400/600], Loss: 0.0116\n",
            "Epoch [4/5], Step [500/600], Loss: 0.0177\n",
            "Epoch [4/5], Step [600/600], Loss: 0.0930\n",
            "Epoch [5/5], Step [100/600], Loss: 0.0029\n",
            "Epoch [5/5], Step [200/600], Loss: 0.0084\n",
            "Epoch [5/5], Step [300/600], Loss: 0.0094\n",
            "Epoch [5/5], Step [400/600], Loss: 0.0276\n",
            "Epoch [5/5], Step [500/600], Loss: 0.0103\n",
            "Epoch [5/5], Step [600/600], Loss: 0.0742\n",
            "Accuracy of the model: 97.790 %\n"
          ]
        }
      ],
      "source": [
        "def build_model(input_size, hidden_size, num_classes, num_layers, activations):\n",
        "    layers = []\n",
        "    layers.append(nn.Linear(input_size, hidden_size))\n",
        "    for i in range(num_layers):\n",
        "        activation = activations[i] if i < len(activations) else 'relu'\n",
        "        if activation == 'relu':\n",
        "            layers.append(nn.ReLU())\n",
        "        elif activation == 'sigmoid':\n",
        "            layers.append(nn.Sigmoid())\n",
        "        elif activation == 'tanh':\n",
        "            layers.append(nn.Tanh())\n",
        "        elif activation == 'softmax':\n",
        "            layers.append(nn.Softmax())\n",
        "        layers.append(nn.Linear(hidden_size, hidden_size))\n",
        "    layers.append(nn.Linear(hidden_size, num_classes))\n",
        "    return nn.Sequential(*layers)\n",
        "\n",
        "activations = ['relu', 'relu', 'relu', 'relu']\n",
        "net = build_model(input_size, hidden_size, num_classes, num_layers=1, activations=activations)\n",
        "\n",
        "if torch.cuda.is_available():\n",
        "  net.cuda()\n",
        "\n",
        "\n",
        "#@title function to evaluate different activation functions and different number of layers\n",
        "\n",
        "loss_function = nn.CrossEntropyLoss()\n",
        "optimizer = torch.optim.Adam(net.parameters(), lr=lr)\n",
        "\n",
        "#@title Training the model\n",
        "\n",
        "for epoch in range(num_epochs):\n",
        "  for i ,(images,labels) in enumerate(train_gen):\n",
        "    images = Variable(images.view(-1,28*28))\n",
        "    labels = Variable(labels)\n",
        "\n",
        "    optimizer.zero_grad()\n",
        "    outputs = net(images)\n",
        "    loss = loss_function(outputs, labels)\n",
        "    loss.backward() #Q2a (15 points): What is the meaning of this step? Please explain the functionality.\n",
        "    optimizer.step() #Q2b (15 points): What is the meaning of this step? Please explain the functionality.\n",
        "\n",
        "    if (i+1) % 100 == 0:\n",
        "      print('Epoch [%d/%d], Step [%d/%d], Loss: %.4f'%(epoch+1, num_epochs, i+1, len(train_data)//batch_size, loss.item()))\n",
        "\n",
        "\n",
        "#@title Evaluating the accuracy of the model\n",
        "\n",
        "correct = 0\n",
        "total = 0\n",
        "for images,labels in test_gen:\n",
        "  images = Variable(images.view(-1,28*28))\n",
        "  labels = labels\n",
        "\n",
        "  output = net(images)\n",
        "  _, predicted = torch.max(output,1)\n",
        "  correct += (predicted == labels).sum()\n",
        "  total += labels.size(0)\n",
        "\n",
        "print('Accuracy of the model: %.3f %%' %((100*correct)/(total+1)))"
      ]
    },
    {
      "cell_type": "code",
      "execution_count": null,
      "metadata": {
        "id": "HuK1LxoYwEWl"
      },
      "outputs": [],
      "source": []
    },
    {
      "cell_type": "markdown",
      "metadata": {
        "id": "fJkMDBXIwE92"
      },
      "source": [
        "activations = ['relu', 'sigmoid', 'tanh', 'softmax']\n",
        "net = build_model(input_size, hidden_size, num_classes, num_layers=4, activations=activations)\n",
        "Accuracy of the model: 97.120 %"
      ]
    },
    {
      "cell_type": "markdown",
      "metadata": {
        "id": "R9AW5Nzbw02l"
      },
      "source": [
        "activations = ['relu', 'sigmoid', 'tanh', 'softmax']\n",
        "net = build_model(input_size, hidden_size, num_classes, num_layers=3, activations=activations)\n",
        "Accuracy of the model: 97.600 %"
      ]
    },
    {
      "cell_type": "markdown",
      "metadata": {
        "id": "sYuCtbOAxHRH"
      },
      "source": [
        "activations = ['relu', 'relu', 'relu', 'relu']\n",
        "net = build_model(input_size, hidden_size, num_classes, num_layers=3, activations=activations)\n",
        "Accuracy of the model: 97.740 %"
      ]
    },
    {
      "cell_type": "markdown",
      "metadata": {
        "id": "a94CYbMcyH4i"
      },
      "source": [
        "activations = ['relu', 'relu', 'relu', 'relu']\n",
        "net = build_model(input_size, hidden_size, num_classes, num_layers=4, activations=activations)\n",
        "Accuracy of the model: 97.850 %"
      ]
    },
    {
      "cell_type": "markdown",
      "metadata": {
        "id": "V--ebv5f2fu_"
      },
      "source": [
        "activations = ['relu', 'relu', 'relu', 'relu']\n",
        "net = build_model(input_size, hidden_size, num_classes, num_layers=6, activations=activations)\n",
        "accuracy - 97.660%"
      ]
    },
    {
      "cell_type": "markdown",
      "metadata": {
        "id": "NuY1BvSy3rHc"
      },
      "source": [
        "relu with 1 layer; accuracy - 97.680%"
      ]
    },
    {
      "cell_type": "markdown",
      "metadata": {
        "id": "F5hTrWlEHm4g"
      },
      "source": [
        "above code checks model for different layers and activation functions. Model can be updated accordingly as below which has 3 layers and 'relu' on each layer. Functions and number of layers can be added accordingly."
      ]
    },
    {
      "cell_type": "code",
      "execution_count": 14,
      "metadata": {
        "id": "AmlkY9Y-3quw"
      },
      "outputs": [],
      "source": [
        "class Net(nn.Module):\n",
        "    def __init__(self, input_size, hidden_size, num_classes):\n",
        "        super(Net, self).__init__()\n",
        "        self.fc1 = nn.Linear(input_size, hidden_size)\n",
        "        self.relu1 = nn.ReLU()\n",
        "        self.fc2 = nn.Linear(hidden_size, hidden_size)\n",
        "        self.relu2 = nn.ReLU()\n",
        "        self.fc3 = nn.Linear(hidden_size, num_classes)\n",
        "\n",
        "    def forward(self, x):\n",
        "        out = self.fc1(x)\n",
        "        out = self.relu1(out)\n",
        "        out = self.fc2(out)\n",
        "        out = self.relu2(out)\n",
        "        output = self.fc3(out)\n",
        "        return output"
      ]
    },
    {
      "cell_type": "code",
      "execution_count": 15,
      "metadata": {
        "colab": {
          "base_uri": "https://localhost:8080/"
        },
        "id": "1IEcztf6xyI1",
        "outputId": "f4118483-b6d8-49c7-b20e-1590bbb19718"
      },
      "outputs": [
        {
          "name": "stdout",
          "output_type": "stream",
          "text": [
            "Epoch [1/5], Step [100/600], Loss: 0.2079\n",
            "Epoch [1/5], Step [200/600], Loss: 0.0920\n",
            "Epoch [1/5], Step [300/600], Loss: 0.0469\n",
            "Epoch [1/5], Step [400/600], Loss: 0.0560\n",
            "Epoch [1/5], Step [500/600], Loss: 0.0944\n",
            "Epoch [1/5], Step [600/600], Loss: 0.0161\n",
            "Epoch [2/5], Step [100/600], Loss: 0.0877\n",
            "Epoch [2/5], Step [200/600], Loss: 0.0248\n",
            "Epoch [2/5], Step [300/600], Loss: 0.1439\n",
            "Epoch [2/5], Step [400/600], Loss: 0.0775\n",
            "Epoch [2/5], Step [500/600], Loss: 0.0538\n",
            "Epoch [2/5], Step [600/600], Loss: 0.1182\n",
            "Epoch [3/5], Step [100/600], Loss: 0.0519\n",
            "Epoch [3/5], Step [200/600], Loss: 0.0154\n",
            "Epoch [3/5], Step [300/600], Loss: 0.0112\n",
            "Epoch [3/5], Step [400/600], Loss: 0.0476\n",
            "Epoch [3/5], Step [500/600], Loss: 0.0091\n",
            "Epoch [3/5], Step [600/600], Loss: 0.0200\n",
            "Epoch [4/5], Step [100/600], Loss: 0.0204\n",
            "Epoch [4/5], Step [200/600], Loss: 0.0508\n",
            "Epoch [4/5], Step [300/600], Loss: 0.0470\n",
            "Epoch [4/5], Step [400/600], Loss: 0.0452\n",
            "Epoch [4/5], Step [500/600], Loss: 0.0829\n",
            "Epoch [4/5], Step [600/600], Loss: 0.0114\n",
            "Epoch [5/5], Step [100/600], Loss: 0.0075\n",
            "Epoch [5/5], Step [200/600], Loss: 0.0276\n",
            "Epoch [5/5], Step [300/600], Loss: 0.0247\n",
            "Epoch [5/5], Step [400/600], Loss: 0.0457\n",
            "Epoch [5/5], Step [500/600], Loss: 0.0019\n",
            "Epoch [5/5], Step [600/600], Loss: 0.0125\n",
            "Accuracy of the model on the 10000 test images: 99 %\n"
          ]
        }
      ],
      "source": [
        "import torch\n",
        "import torch.nn as nn\n",
        "import torchvision.datasets as dsets\n",
        "import torchvision.transforms as transforms\n",
        "from torch.autograd import Variable\n",
        "\n",
        "#@title CNN implementation\n",
        "\n",
        "input_size = 784 # img_size = (28,28) ---> 28*28=784 in total\n",
        "num_classes = 10 # number of output classes discrete range [0,9]\n",
        "num_epochs = 5 # number of times which the entire dataset is passed throughout the model\n",
        "batch_size = 100 # the size of input data took for one iteration\n",
        "lr = 1e-3 # size of step\n",
        "\n",
        "#@title Downloading MNIST data\n",
        "\n",
        "train_data = dsets.MNIST(root = './data', train = True,\n",
        "                        transform = transforms.ToTensor(), download = True)\n",
        "\n",
        "test_data = dsets.MNIST(root = './data', train = False,\n",
        "                       transform = transforms.ToTensor())\n",
        "\n",
        "#@title Define model class\n",
        "\n",
        "class Net(nn.Module):\n",
        "    def __init__(self, num_classes):\n",
        "        super(Net, self).__init__()\n",
        "        self.conv1 = nn.Conv2d(1, 16, kernel_size=5, stride=1, padding=2)\n",
        "        self.relu = nn.ReLU()\n",
        "        self.maxpool = nn.MaxPool2d(kernel_size=2, stride=2)\n",
        "        self.conv2 = nn.Conv2d(16, 32, kernel_size=5, stride=1, padding=2)\n",
        "        self.fc1 = nn.Linear(7 * 7 * 32, 128)\n",
        "        self.fc2 = nn.Linear(128, num_classes)\n",
        "\n",
        "    def forward(self, x):\n",
        "        out = self.conv1(x)\n",
        "        out = self.relu(out)\n",
        "        out = self.maxpool(out)\n",
        "        out = self.conv2(out)\n",
        "        out = self.relu(out)\n",
        "        out = self.maxpool(out)\n",
        "        out = out.view(out.size(0), -1)\n",
        "        out = self.fc1(out)\n",
        "        out = self.relu(out)\n",
        "        out = self.fc2(out)\n",
        "        return out\n",
        "\n",
        "#@title CNN implementation\n",
        "\n",
        "net = Net(num_classes)\n",
        "if torch.cuda.is_available():\n",
        "  net.cuda()\n",
        "\n",
        "#@title Define loss-function & optimizer\n",
        "\n",
        "loss_function = nn.CrossEntropyLoss()\n",
        "optimizer = torch.optim.Adam(net.parameters(), lr=lr)\n",
        "\n",
        "#@title Training the model\n",
        "\n",
        "train_loader = torch.utils.data.DataLoader(dataset=train_data,\n",
        "                                           batch_size=batch_size,\n",
        "                                           shuffle=True)\n",
        "\n",
        "total_step = len(train_loader)\n",
        "for epoch in range(num_epochs):\n",
        "    for i, (images, labels) in enumerate(train_loader):\n",
        "        images = Variable(images)\n",
        "        labels = Variable(labels)\n",
        "\n",
        "        optimizer.zero_grad()\n",
        "        outputs = net(images)\n",
        "        loss = loss_function(outputs, labels)\n",
        "        loss.backward()\n",
        "        optimizer.step()\n",
        "\n",
        "        if (i+1) % 100 == 0:\n",
        "            print('Epoch [%d/%d], Step [%d/%d], Loss: %.4f'\n",
        "                  %(epoch+1, num_epochs, i+1, total_step, loss.item()))\n",
        "\n",
        "#@title Evaluating the accuracy of the model\n",
        "\n",
        "test_loader = torch.utils.data.DataLoader(dataset=test_data,\n",
        "                                          batch_size=batch_size,\n",
        "                                          shuffle=False)\n",
        "\n",
        "correct = 0\n",
        "total = 0\n",
        "for images, labels in test_loader:\n",
        "    images = Variable(images)\n",
        "    labels = labels\n",
        "\n",
        "    output = net(images)\n",
        "    _, predicted = torch.max(output.data, 1)\n",
        "    correct += (predicted == labels).sum()\n",
        "    total += labels.size(0)\n",
        "\n",
        "print('Accuracy of the model on the 10000 test images: %d %%' % (100 * correct / total))"
      ]
    },
    {
      "cell_type": "markdown",
      "metadata": {
        "id": "qAbaPOSiy8YN"
      },
      "source": [
        "CNN model with 2 convolutional layers; used ReLU activation functions and max pooling layers.\n",
        "initial accuracy - 98%"
      ]
    },
    {
      "cell_type": "code",
      "execution_count": null,
      "metadata": {
        "id": "OQ9YglqU35pz"
      },
      "outputs": [],
      "source": []
    },
    {
      "cell_type": "code",
      "execution_count": null,
      "metadata": {
        "colab": {
          "base_uri": "https://localhost:8080/"
        },
        "id": "9bgr1uQY35kV",
        "outputId": "0123822f-6954-49a1-b862-0e103a123b1e"
      },
      "outputs": [
        {
          "name": "stdout",
          "output_type": "stream",
          "text": [
            "Training model with activation: relu, pooling: max\n",
            "Epoch [1/5], Step [100/600], Loss: 0.2634\n",
            "Epoch [1/5], Step [200/600], Loss: 0.0862\n",
            "Epoch [1/5], Step [300/600], Loss: 0.0988\n",
            "Epoch [1/5], Step [400/600], Loss: 0.2082\n",
            "Epoch [1/5], Step [500/600], Loss: 0.0707\n",
            "Epoch [1/5], Step [600/600], Loss: 0.0395\n",
            "Epoch [2/5], Step [100/600], Loss: 0.1340\n",
            "Epoch [2/5], Step [200/600], Loss: 0.0217\n",
            "Epoch [2/5], Step [300/600], Loss: 0.0446\n",
            "Epoch [2/5], Step [400/600], Loss: 0.0615\n",
            "Epoch [2/5], Step [500/600], Loss: 0.0481\n",
            "Epoch [2/5], Step [600/600], Loss: 0.0185\n",
            "Epoch [3/5], Step [100/600], Loss: 0.1353\n",
            "Epoch [3/5], Step [200/600], Loss: 0.0249\n",
            "Epoch [3/5], Step [300/600], Loss: 0.0586\n",
            "Epoch [3/5], Step [400/600], Loss: 0.0469\n",
            "Epoch [3/5], Step [500/600], Loss: 0.0870\n",
            "Epoch [3/5], Step [600/600], Loss: 0.0232\n",
            "Epoch [4/5], Step [100/600], Loss: 0.0475\n",
            "Epoch [4/5], Step [200/600], Loss: 0.0792\n",
            "Epoch [4/5], Step [300/600], Loss: 0.0196\n",
            "Epoch [4/5], Step [400/600], Loss: 0.0069\n",
            "Epoch [4/5], Step [500/600], Loss: 0.0340\n",
            "Epoch [4/5], Step [600/600], Loss: 0.0246\n",
            "Epoch [5/5], Step [100/600], Loss: 0.0356\n",
            "Epoch [5/5], Step [200/600], Loss: 0.0452\n",
            "Epoch [5/5], Step [300/600], Loss: 0.0481\n",
            "Epoch [5/5], Step [400/600], Loss: 0.0520\n",
            "Epoch [5/5], Step [500/600], Loss: 0.0056\n",
            "Epoch [5/5], Step [600/600], Loss: 0.0472\n",
            "Accuracy of the model on the 10000 test images with activation relu and pooling max: 99.12999725341797 %\n",
            "Training model with activation: relu, pooling: avg\n",
            "Epoch [1/5], Step [100/600], Loss: 0.2264\n",
            "Epoch [1/5], Step [200/600], Loss: 0.3562\n",
            "Epoch [1/5], Step [300/600], Loss: 0.0640\n",
            "Epoch [1/5], Step [400/600], Loss: 0.1025\n",
            "Epoch [1/5], Step [500/600], Loss: 0.1144\n",
            "Epoch [1/5], Step [600/600], Loss: 0.0838\n",
            "Epoch [2/5], Step [100/600], Loss: 0.0536\n",
            "Epoch [2/5], Step [200/600], Loss: 0.0965\n",
            "Epoch [2/5], Step [300/600], Loss: 0.0533\n",
            "Epoch [2/5], Step [400/600], Loss: 0.0550\n",
            "Epoch [2/5], Step [500/600], Loss: 0.0551\n",
            "Epoch [2/5], Step [600/600], Loss: 0.0597\n",
            "Epoch [3/5], Step [100/600], Loss: 0.0565\n",
            "Epoch [3/5], Step [200/600], Loss: 0.0669\n",
            "Epoch [3/5], Step [300/600], Loss: 0.1003\n",
            "Epoch [3/5], Step [400/600], Loss: 0.0324\n",
            "Epoch [3/5], Step [500/600], Loss: 0.0350\n",
            "Epoch [3/5], Step [600/600], Loss: 0.0916\n",
            "Epoch [4/5], Step [100/600], Loss: 0.0343\n",
            "Epoch [4/5], Step [200/600], Loss: 0.0443\n",
            "Epoch [4/5], Step [300/600], Loss: 0.0388\n",
            "Epoch [4/5], Step [400/600], Loss: 0.0506\n",
            "Epoch [4/5], Step [500/600], Loss: 0.0274\n",
            "Epoch [4/5], Step [600/600], Loss: 0.0947\n",
            "Epoch [5/5], Step [100/600], Loss: 0.0109\n",
            "Epoch [5/5], Step [200/600], Loss: 0.0097\n",
            "Epoch [5/5], Step [300/600], Loss: 0.0064\n",
            "Epoch [5/5], Step [400/600], Loss: 0.0405\n",
            "Epoch [5/5], Step [500/600], Loss: 0.0125\n",
            "Epoch [5/5], Step [600/600], Loss: 0.0127\n",
            "Accuracy of the model on the 10000 test images with activation relu and pooling avg: 98.95999908447266 %\n",
            "Training model with activation: sigmoid, pooling: max\n",
            "Epoch [1/5], Step [100/600], Loss: 2.2943\n",
            "Epoch [1/5], Step [200/600], Loss: 1.9212\n",
            "Epoch [1/5], Step [300/600], Loss: 0.5494\n",
            "Epoch [1/5], Step [400/600], Loss: 0.4647\n",
            "Epoch [1/5], Step [500/600], Loss: 0.4137\n",
            "Epoch [1/5], Step [600/600], Loss: 0.4385\n",
            "Epoch [2/5], Step [100/600], Loss: 0.2556\n",
            "Epoch [2/5], Step [200/600], Loss: 0.4516\n",
            "Epoch [2/5], Step [300/600], Loss: 0.1736\n",
            "Epoch [2/5], Step [400/600], Loss: 0.1035\n",
            "Epoch [2/5], Step [500/600], Loss: 0.1683\n",
            "Epoch [2/5], Step [600/600], Loss: 0.2033\n",
            "Epoch [3/5], Step [100/600], Loss: 0.1520\n",
            "Epoch [3/5], Step [200/600], Loss: 0.1440\n",
            "Epoch [3/5], Step [300/600], Loss: 0.1222\n",
            "Epoch [3/5], Step [400/600], Loss: 0.1249\n",
            "Epoch [3/5], Step [500/600], Loss: 0.0784\n",
            "Epoch [3/5], Step [600/600], Loss: 0.0808\n",
            "Epoch [4/5], Step [100/600], Loss: 0.0681\n",
            "Epoch [4/5], Step [200/600], Loss: 0.0919\n",
            "Epoch [4/5], Step [300/600], Loss: 0.1561\n",
            "Epoch [4/5], Step [400/600], Loss: 0.0501\n",
            "Epoch [4/5], Step [500/600], Loss: 0.1328\n",
            "Epoch [4/5], Step [600/600], Loss: 0.0614\n",
            "Epoch [5/5], Step [100/600], Loss: 0.0346\n",
            "Epoch [5/5], Step [200/600], Loss: 0.1494\n",
            "Epoch [5/5], Step [300/600], Loss: 0.0177\n",
            "Epoch [5/5], Step [400/600], Loss: 0.1604\n",
            "Epoch [5/5], Step [500/600], Loss: 0.0421\n",
            "Epoch [5/5], Step [600/600], Loss: 0.1305\n",
            "Accuracy of the model on the 10000 test images with activation sigmoid and pooling max: 98.23999786376953 %\n",
            "Training model with activation: sigmoid, pooling: avg\n",
            "Epoch [1/5], Step [100/600], Loss: 2.3028\n",
            "Epoch [1/5], Step [200/600], Loss: 2.2841\n",
            "Epoch [1/5], Step [300/600], Loss: 1.0302\n",
            "Epoch [1/5], Step [400/600], Loss: 0.4151\n",
            "Epoch [1/5], Step [500/600], Loss: 0.4250\n",
            "Epoch [1/5], Step [600/600], Loss: 0.3971\n",
            "Epoch [2/5], Step [100/600], Loss: 0.2560\n",
            "Epoch [2/5], Step [200/600], Loss: 0.1762\n",
            "Epoch [2/5], Step [300/600], Loss: 0.2541\n",
            "Epoch [2/5], Step [400/600], Loss: 0.1848\n",
            "Epoch [2/5], Step [500/600], Loss: 0.1346\n",
            "Epoch [2/5], Step [600/600], Loss: 0.2151\n",
            "Epoch [3/5], Step [100/600], Loss: 0.2522\n",
            "Epoch [3/5], Step [200/600], Loss: 0.3217\n",
            "Epoch [3/5], Step [300/600], Loss: 0.1766\n",
            "Epoch [3/5], Step [400/600], Loss: 0.1475\n",
            "Epoch [3/5], Step [500/600], Loss: 0.1381\n",
            "Epoch [3/5], Step [600/600], Loss: 0.1324\n",
            "Epoch [4/5], Step [100/600], Loss: 0.0580\n",
            "Epoch [4/5], Step [200/600], Loss: 0.1158\n",
            "Epoch [4/5], Step [300/600], Loss: 0.0860\n",
            "Epoch [4/5], Step [400/600], Loss: 0.0682\n",
            "Epoch [4/5], Step [500/600], Loss: 0.1718\n",
            "Epoch [4/5], Step [600/600], Loss: 0.1266\n",
            "Epoch [5/5], Step [100/600], Loss: 0.1057\n",
            "Epoch [5/5], Step [200/600], Loss: 0.1326\n",
            "Epoch [5/5], Step [300/600], Loss: 0.1515\n",
            "Epoch [5/5], Step [400/600], Loss: 0.0942\n",
            "Epoch [5/5], Step [500/600], Loss: 0.0973\n",
            "Epoch [5/5], Step [600/600], Loss: 0.1332\n",
            "Accuracy of the model on the 10000 test images with activation sigmoid and pooling avg: 97.56999969482422 %\n",
            "Training model with activation: tanh, pooling: max\n",
            "Epoch [1/5], Step [100/600], Loss: 0.1959\n",
            "Epoch [1/5], Step [200/600], Loss: 0.1846\n",
            "Epoch [1/5], Step [300/600], Loss: 0.1010\n",
            "Epoch [1/5], Step [400/600], Loss: 0.0629\n",
            "Epoch [1/5], Step [500/600], Loss: 0.1392\n",
            "Epoch [1/5], Step [600/600], Loss: 0.0684\n",
            "Epoch [2/5], Step [100/600], Loss: 0.0691\n",
            "Epoch [2/5], Step [200/600], Loss: 0.0167\n",
            "Epoch [2/5], Step [300/600], Loss: 0.0698\n",
            "Epoch [2/5], Step [400/600], Loss: 0.0435\n",
            "Epoch [2/5], Step [500/600], Loss: 0.0316\n",
            "Epoch [2/5], Step [600/600], Loss: 0.0133\n",
            "Epoch [3/5], Step [100/600], Loss: 0.1031\n",
            "Epoch [3/5], Step [200/600], Loss: 0.0263\n",
            "Epoch [3/5], Step [300/600], Loss: 0.0941\n",
            "Epoch [3/5], Step [400/600], Loss: 0.0533\n",
            "Epoch [3/5], Step [500/600], Loss: 0.0136\n",
            "Epoch [3/5], Step [600/600], Loss: 0.0075\n",
            "Epoch [4/5], Step [100/600], Loss: 0.0426\n",
            "Epoch [4/5], Step [200/600], Loss: 0.0065\n",
            "Epoch [4/5], Step [300/600], Loss: 0.0083\n",
            "Epoch [4/5], Step [400/600], Loss: 0.0253\n",
            "Epoch [4/5], Step [500/600], Loss: 0.0063\n",
            "Epoch [4/5], Step [600/600], Loss: 0.0206\n",
            "Epoch [5/5], Step [100/600], Loss: 0.0017\n",
            "Epoch [5/5], Step [200/600], Loss: 0.0127\n",
            "Epoch [5/5], Step [300/600], Loss: 0.0041\n",
            "Epoch [5/5], Step [400/600], Loss: 0.0777\n",
            "Epoch [5/5], Step [500/600], Loss: 0.0227\n",
            "Epoch [5/5], Step [600/600], Loss: 0.0185\n",
            "Accuracy of the model on the 10000 test images with activation tanh and pooling max: 98.91000366210938 %\n",
            "Training model with activation: tanh, pooling: avg\n",
            "Epoch [1/5], Step [100/600], Loss: 0.4282\n",
            "Epoch [1/5], Step [200/600], Loss: 0.3099\n",
            "Epoch [1/5], Step [300/600], Loss: 0.1676\n",
            "Epoch [1/5], Step [400/600], Loss: 0.2217\n",
            "Epoch [1/5], Step [500/600], Loss: 0.1322\n",
            "Epoch [1/5], Step [600/600], Loss: 0.0761\n",
            "Epoch [2/5], Step [100/600], Loss: 0.0480\n",
            "Epoch [2/5], Step [200/600], Loss: 0.1465\n",
            "Epoch [2/5], Step [300/600], Loss: 0.0863\n",
            "Epoch [2/5], Step [400/600], Loss: 0.0267\n",
            "Epoch [2/5], Step [500/600], Loss: 0.2406\n",
            "Epoch [2/5], Step [600/600], Loss: 0.0361\n",
            "Epoch [3/5], Step [100/600], Loss: 0.1034\n",
            "Epoch [3/5], Step [200/600], Loss: 0.0736\n",
            "Epoch [3/5], Step [300/600], Loss: 0.0702\n",
            "Epoch [3/5], Step [400/600], Loss: 0.0766\n",
            "Epoch [3/5], Step [500/600], Loss: 0.0485\n",
            "Epoch [3/5], Step [600/600], Loss: 0.0725\n",
            "Epoch [4/5], Step [100/600], Loss: 0.1222\n",
            "Epoch [4/5], Step [200/600], Loss: 0.0254\n",
            "Epoch [4/5], Step [300/600], Loss: 0.0240\n",
            "Epoch [4/5], Step [400/600], Loss: 0.0674\n",
            "Epoch [4/5], Step [500/600], Loss: 0.0770\n",
            "Epoch [4/5], Step [600/600], Loss: 0.0654\n",
            "Epoch [5/5], Step [100/600], Loss: 0.0059\n",
            "Epoch [5/5], Step [200/600], Loss: 0.0170\n",
            "Epoch [5/5], Step [300/600], Loss: 0.0452\n",
            "Epoch [5/5], Step [400/600], Loss: 0.0813\n",
            "Epoch [5/5], Step [500/600], Loss: 0.0240\n",
            "Epoch [5/5], Step [600/600], Loss: 0.0472\n",
            "Accuracy of the model on the 10000 test images with activation tanh and pooling avg: 98.58999633789062 %\n",
            "Training model with activation: softmax, pooling: max\n"
          ]
        },
        {
          "name": "stderr",
          "output_type": "stream",
          "text": [
            "/usr/local/lib/python3.10/dist-packages/torch/nn/modules/module.py:1511: UserWarning: Implicit dimension choice for softmax has been deprecated. Change the call to include dim=X as an argument.\n",
            "  return self._call_impl(*args, **kwargs)\n"
          ]
        },
        {
          "name": "stdout",
          "output_type": "stream",
          "text": [
            "Epoch [1/5], Step [100/600], Loss: 2.3073\n",
            "Epoch [1/5], Step [200/600], Loss: 2.1499\n",
            "Epoch [1/5], Step [300/600], Loss: 1.9291\n",
            "Epoch [1/5], Step [400/600], Loss: 1.7264\n",
            "Epoch [1/5], Step [500/600], Loss: 1.6367\n",
            "Epoch [1/5], Step [600/600], Loss: 1.5525\n",
            "Epoch [2/5], Step [100/600], Loss: 1.3800\n",
            "Epoch [2/5], Step [200/600], Loss: 1.3266\n",
            "Epoch [2/5], Step [300/600], Loss: 1.2881\n",
            "Epoch [2/5], Step [400/600], Loss: 1.2172\n",
            "Epoch [2/5], Step [500/600], Loss: 1.2184\n",
            "Epoch [2/5], Step [600/600], Loss: 1.0739\n",
            "Epoch [3/5], Step [100/600], Loss: 1.1657\n",
            "Epoch [3/5], Step [200/600], Loss: 1.1278\n",
            "Epoch [3/5], Step [300/600], Loss: 1.1744\n",
            "Epoch [3/5], Step [400/600], Loss: 1.1106\n",
            "Epoch [3/5], Step [500/600], Loss: 1.1071\n",
            "Epoch [3/5], Step [600/600], Loss: 1.0743\n",
            "Epoch [4/5], Step [100/600], Loss: 0.9926\n",
            "Epoch [4/5], Step [200/600], Loss: 0.9965\n",
            "Epoch [4/5], Step [300/600], Loss: 1.0429\n",
            "Epoch [4/5], Step [400/600], Loss: 0.9816\n",
            "Epoch [4/5], Step [500/600], Loss: 0.9818\n",
            "Epoch [4/5], Step [600/600], Loss: 0.9236\n",
            "Epoch [5/5], Step [100/600], Loss: 0.9665\n",
            "Epoch [5/5], Step [200/600], Loss: 0.9473\n",
            "Epoch [5/5], Step [300/600], Loss: 0.9554\n",
            "Epoch [5/5], Step [400/600], Loss: 0.9297\n",
            "Epoch [5/5], Step [500/600], Loss: 0.8637\n",
            "Epoch [5/5], Step [600/600], Loss: 0.8805\n",
            "Accuracy of the model on the 10000 test images with activation softmax and pooling max: 50.75 %\n",
            "Training model with activation: softmax, pooling: avg\n",
            "Epoch [1/5], Step [100/600], Loss: 2.3030\n",
            "Epoch [1/5], Step [200/600], Loss: 2.1887\n",
            "Epoch [1/5], Step [300/600], Loss: 1.9355\n",
            "Epoch [1/5], Step [400/600], Loss: 1.7694\n",
            "Epoch [1/5], Step [500/600], Loss: 1.6624\n",
            "Epoch [1/5], Step [600/600], Loss: 1.5159\n",
            "Epoch [2/5], Step [100/600], Loss: 1.4562\n",
            "Epoch [2/5], Step [200/600], Loss: 1.3378\n",
            "Epoch [2/5], Step [300/600], Loss: 1.2458\n",
            "Epoch [2/5], Step [400/600], Loss: 1.1820\n",
            "Epoch [2/5], Step [500/600], Loss: 1.1994\n",
            "Epoch [2/5], Step [600/600], Loss: 1.1897\n",
            "Epoch [3/5], Step [100/600], Loss: 1.1513\n",
            "Epoch [3/5], Step [200/600], Loss: 1.1231\n",
            "Epoch [3/5], Step [300/600], Loss: 1.1452\n",
            "Epoch [3/5], Step [400/600], Loss: 1.1741\n",
            "Epoch [3/5], Step [500/600], Loss: 1.1515\n",
            "Epoch [3/5], Step [600/600], Loss: 1.0100\n",
            "Epoch [4/5], Step [100/600], Loss: 0.9501\n",
            "Epoch [4/5], Step [200/600], Loss: 0.9848\n",
            "Epoch [4/5], Step [300/600], Loss: 1.1054\n",
            "Epoch [4/5], Step [400/600], Loss: 0.9482\n",
            "Epoch [4/5], Step [500/600], Loss: 1.0657\n",
            "Epoch [4/5], Step [600/600], Loss: 1.0135\n",
            "Epoch [5/5], Step [100/600], Loss: 0.9469\n",
            "Epoch [5/5], Step [200/600], Loss: 0.8603\n",
            "Epoch [5/5], Step [300/600], Loss: 0.8846\n",
            "Epoch [5/5], Step [400/600], Loss: 0.8474\n",
            "Epoch [5/5], Step [500/600], Loss: 1.0053\n",
            "Epoch [5/5], Step [600/600], Loss: 0.9385\n",
            "Accuracy of the model on the 10000 test images with activation softmax and pooling avg: 50.86000061035156 %\n"
          ]
        }
      ],
      "source": [
        "import torch\n",
        "import torch.nn as nn\n",
        "import torchvision.datasets as dsets\n",
        "import torchvision.transforms as transforms\n",
        "from torch.autograd import Variable\n",
        "\n",
        "#@title Define Hyperparameters\n",
        "\n",
        "input_size = 784 # img_size = (28,28) ---> 28*28=784 in total\n",
        "num_classes = 10 # number of output classes discrete range [0,9]\n",
        "num_epochs = 5 # number of times which the entire dataset is passed throughout the model\n",
        "batch_size = 100 # the size of input data took for one iteration\n",
        "lr = 1e-3 # size of step\n",
        "\n",
        "#@title Downloading MNIST data\n",
        "\n",
        "train_data = dsets.MNIST(root = './data', train = True,\n",
        "                        transform = transforms.ToTensor(), download = True)\n",
        "\n",
        "test_data = dsets.MNIST(root = './data', train = False,\n",
        "                       transform = transforms.ToTensor())\n",
        "\n",
        "#@title Define model class\n",
        "\n",
        "class Net(nn.Module):\n",
        "    def __init__(self, num_classes, activation='relu', pooling='max'):\n",
        "        super(Net, self).__init__()\n",
        "        self.conv1 = nn.Conv2d(1, 16, kernel_size=5, stride=1, padding=2)\n",
        "        if activation == 'relu':\n",
        "            self.activation = nn.ReLU()\n",
        "        elif activation == 'sigmoid':\n",
        "            self.activation = nn.Sigmoid()\n",
        "        elif activation == 'tanh':\n",
        "            self.activation = nn.Tanh()\n",
        "        elif activation == 'softmax':\n",
        "            self.activation = nn.Softmax()\n",
        "        self.maxpool = nn.MaxPool2d(kernel_size=2, stride=2) if pooling == 'max' else nn.AvgPool2d(kernel_size=2, stride=2)\n",
        "        self.conv2 = nn.Conv2d(16, 32, kernel_size=5, stride=1, padding=2)\n",
        "        self.fc1 = nn.Linear(7 * 7 * 32, 128)\n",
        "        self.fc2 = nn.Linear(128, num_classes)\n",
        "\n",
        "    def forward(self, x):\n",
        "        out = self.conv1(x)\n",
        "        out = self.activation(out)\n",
        "        out = self.maxpool(out)\n",
        "        out = self.conv2(out)\n",
        "        out = self.activation(out)\n",
        "        out = self.maxpool(out)\n",
        "        out = out.view(out.size(0), -1)\n",
        "        out = self.fc1(out)\n",
        "        out = self.activation(out)\n",
        "        out = self.fc2(out)\n",
        "        return out\n",
        "\n",
        "#@title Build and Train the model\n",
        "\n",
        "def train_model(activation, pooling):\n",
        "    net = Net(num_classes, activation, pooling)\n",
        "    if torch.cuda.is_available():\n",
        "        net.cuda()\n",
        "\n",
        "    loss_function = nn.CrossEntropyLoss()\n",
        "    optimizer = torch.optim.Adam(net.parameters(), lr=lr)\n",
        "\n",
        "    train_loader = torch.utils.data.DataLoader(dataset=train_data,\n",
        "                                               batch_size=batch_size,\n",
        "                                               shuffle=True)\n",
        "\n",
        "    total_step = len(train_loader)\n",
        "    for epoch in range(num_epochs):\n",
        "        for i, (images, labels) in enumerate(train_loader):\n",
        "            images = Variable(images)\n",
        "            labels = Variable(labels)\n",
        "\n",
        "            optimizer.zero_grad()\n",
        "            outputs = net(images)\n",
        "            loss = loss_function(outputs, labels)\n",
        "            loss.backward()\n",
        "            optimizer.step()\n",
        "\n",
        "            if (i+1) % 100 == 0:\n",
        "                print('Epoch [%d/%d], Step [%d/%d], Loss: %.4f'\n",
        "                      %(epoch+1, num_epochs, i+1, total_step, loss.item()))\n",
        "\n",
        "    test_loader = torch.utils.data.DataLoader(dataset=test_data,\n",
        "                                              batch_size=batch_size,\n",
        "                                              shuffle=False)\n",
        "\n",
        "    correct = 0\n",
        "    total = 0\n",
        "    for images, labels in test_loader:\n",
        "        images = Variable(images)\n",
        "        labels = labels\n",
        "\n",
        "        output = net(images)\n",
        "        _, predicted = torch.max(output.data, 1)\n",
        "        correct += (predicted == labels).sum()\n",
        "        total += labels.size(0)\n",
        "\n",
        "    accuracy = 100 * correct / total\n",
        "    print('Accuracy of the model on the 10000 test images with activation {} and pooling {}: {} %'.format(activation, pooling, accuracy))\n",
        "\n",
        "# Try different combinations of activation functions and pooling layers\n",
        "activations = ['relu', 'sigmoid', 'tanh', 'softmax']\n",
        "poolings = ['max', 'avg']\n",
        "\n",
        "for activation in activations:\n",
        "    for pooling in poolings:\n",
        "        print(\"Training model with activation: {}, pooling: {}\".format(activation, pooling))\n",
        "        train_model(activation, pooling)\n"
      ]
    },
    {
      "cell_type": "code",
      "execution_count": null,
      "metadata": {
        "id": "Ki1_SNi7A1gX"
      },
      "outputs": [],
      "source": []
    },
    {
      "cell_type": "markdown",
      "metadata": {
        "id": "dBfnAW7wGRUv"
      },
      "source": [
        "only thing to be modified is modeland based on above values, ReLu activation function with max pooling worked best. If needed, changes can be made accordingly."
      ]
    },
    {
      "cell_type": "code",
      "execution_count": null,
      "metadata": {
        "id": "osDroj_IA1d_"
      },
      "outputs": [],
      "source": [
        "class Net(nn.Module):\n",
        "    def __init__(self, num_classes):\n",
        "        super(Net, self).__init__()\n",
        "        self.conv1 = nn.Conv2d(1, 16, kernel_size=5, stride=1, padding=2)\n",
        "        self.relu = nn.ReLU()\n",
        "        # changes for different activation functions accordingly; nn.Softmax() - softmax function\n",
        "        # nn.Sigmoid() -- sigmod function; nn.Tanh() -- hyperbolic tangent function\n",
        "        self.maxpool = nn.MaxPool2d(kernel_size=2, stride=2)\n",
        "        #self.maxpool = nn.AvgPool2d(kernel_size=2, stride=2)  -- average pooling\n",
        "        self.conv2 = nn.Conv2d(16, 32, kernel_size=5, stride=1, padding=2)\n",
        "        self.fc1 = nn.Linear(7 * 7 * 32, 128)\n",
        "        self.fc2 = nn.Linear(128, num_classes)\n",
        "\n",
        "    def forward(self, x):\n",
        "        out = self.conv1(x)\n",
        "        out = self.relu(out)\n",
        "        out = self.maxpool(out)\n",
        "        out = self.conv2(out)\n",
        "        out = self.relu(out)\n",
        "        out = self.maxpool(out)\n",
        "        out = out.view(out.size(0), -1)\n",
        "        out = self.fc1(out)\n",
        "        out = self.relu(out)\n",
        "        out = self.fc2(out)\n",
        "        return out"
      ]
    }
  ],
  "metadata": {
    "colab": {
      "provenance": []
    },
    "kernelspec": {
      "display_name": "Python 3",
      "name": "python3"
    },
    "language_info": {
      "codemirror_mode": {
        "name": "ipython",
        "version": 3
      },
      "file_extension": ".py",
      "mimetype": "text/x-python",
      "name": "python",
      "nbconvert_exporter": "python",
      "pygments_lexer": "ipython3",
      "version": "3.12.1"
    }
  },
  "nbformat": 4,
  "nbformat_minor": 0
}
